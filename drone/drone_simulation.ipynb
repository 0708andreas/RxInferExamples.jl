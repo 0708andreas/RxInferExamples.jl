{
 "cells": [
  {
   "cell_type": "markdown",
   "metadata": {},
   "source": [
    "# Building a drone using RxInfer.jl"
   ]
  },
  {
   "cell_type": "code",
   "execution_count": null,
   "metadata": {},
   "outputs": [],
   "source": [
    "using Pkg; Pkg.activate(\".\"); Pkg.instantiate()"
   ]
  },
  {
   "cell_type": "code",
   "execution_count": null,
   "metadata": {},
   "outputs": [],
   "source": [
    "using RxInfer, LinearAlgebra"
   ]
  },
  {
   "cell_type": "markdown",
   "metadata": {},
   "source": [
    "## Defining structures"
   ]
  },
  {
   "cell_type": "code",
   "execution_count": null,
   "metadata": {},
   "outputs": [],
   "source": [
    "\"\"\"\n",
    "    Environment(; gravitational_constant::Float64 = 9.81)\n",
    "\n",
    "This structure contains the properties of the environment.\n",
    "\"\"\"\n",
    "Base.@kwdef struct Environment\n",
    "    gravitational_constant::Float64 = 9.81\n",
    "end\n",
    "get_gravity(env::Environment) = env.gravitational_constant"
   ]
  },
  {
   "cell_type": "code",
   "execution_count": null,
   "metadata": {},
   "outputs": [],
   "source": [
    "\"\"\"\n",
    "    Drone(mass, inertia, radius, force_limit)\n",
    "\n",
    "This structure contains the properties of the drone.\n",
    "\"\"\"\n",
    "Base.@kwdef struct Drone\n",
    "    mass::Float64\n",
    "    inertia::Float64\n",
    "    radius::Float64\n",
    "    force_limit::Float64\n",
    "end\n",
    "get_mass(drone::Drone) = drone.mass\n",
    "get_properties(drone::Drone) = (drone.mass, drone.inertia, drone.radius, drone.force_limit)"
   ]
  },
  {
   "cell_type": "code",
   "execution_count": null,
   "metadata": {},
   "outputs": [],
   "source": [
    "\"\"\"\n",
    "    State(x, y, vx, vy, 𝜃, 𝜔)\n",
    "\n",
    "This structure contains the state of the drone. It contains the position, velocity, and orientation of the drone.\n",
    "\"\"\"\n",
    "struct State\n",
    "    x::Float64\n",
    "    y::Float64\n",
    "    vx::Float64\n",
    "    vy::Float64\n",
    "    𝜃::Float64\n",
    "    𝜔::Float64\n",
    "end\n",
    "get_state(state::State) = (state.x, state.y, state.vx, state.vy, state.𝜃, state.𝜔)"
   ]
  },
  {
   "cell_type": "markdown",
   "metadata": {},
   "source": [
    "## Model specification"
   ]
  },
  {
   "cell_type": "code",
   "execution_count": null,
   "metadata": {},
   "outputs": [],
   "source": [
    "\"\"\"\n",
    "    state_transition(state, actions, drone, environment, dt)\n",
    "\n",
    "This function computes the next state of the drone given the current state, the actions, the drone properties and the environment properties.\n",
    "\"\"\"\n",
    "function state_transition(state, actions, drone::Drone, environment::Environment, dt)\n",
    "\n",
    "    # extract drone properties\n",
    "    m, I, r, limit  = get_properties(drone)\n",
    "\n",
    "    # extract environment properties\n",
    "    g = get_gravity(environment)\n",
    "\n",
    "    # extract feasible actions\n",
    "    Fl, Fr   = clamp.(actions, 0, limit)\n",
    "        \n",
    "    # extract state properties\n",
    "    x, y, vx, vy, θ, ω = state\n",
    "\n",
    "    # compute forces and torques\n",
    "    Fg = m * g\n",
    "    Fy = (Fl + Fr) * cos(θ) - Fg\n",
    "    Fx = (Fl + Fr) * sin(θ)\n",
    "    𝜏  = (Fl - Fr) * r\n",
    "\n",
    "    # compute movements\n",
    "    ax = Fx / m\n",
    "    ay = Fy / m\n",
    "    vx_new = vx + ax * dt\n",
    "    vy_new = vx + ay * dt\n",
    "    x_new  = x + vx * dt + ax * dt^2 / 2\n",
    "    y_new  = y + vy * dt + ay * dt^2 / 2\n",
    "        \n",
    "    # compute rotations\n",
    "    α = 𝜏 / I\n",
    "    ω_new = ω + α * dt\n",
    "    θ_new = θ + ω * dt + α * dt^2 / 2\n",
    "\t\n",
    "    return [x_new, y_new, vx_new, vy_new, θ_new, ω_new]\n",
    "\n",
    "end"
   ]
  },
  {
   "cell_type": "code",
   "execution_count": null,
   "metadata": {},
   "outputs": [],
   "source": [
    "@model function drone_model(drone, environment, initial_state, goal, horizon, dt)\t\n",
    "\n",
    "\t# extract environment properties\n",
    "\tg = get_gravity(environment)\n",
    "\n",
    "\t# extract drone properties\n",
    "\tm = get_mass(drone)\n",
    "\n",
    "\t# initial state prior\n",
    "\ts[1] ~ MvNormal(mean = initial_state, covariance = 1e-5 * I)\n",
    "\n",
    "\tfor i in 1:horizon\n",
    "\n",
    "\t\t# prior on actions (mean compensates for gravity)\n",
    "\t\tu[i] ~ MvNormal(μ = [m * g / 2, m * g / 2], Σ = diageye(2))\n",
    "\n",
    "\t\t# state transition\n",
    "\t\ts[i + 1] ~ MvNormal(\n",
    "            μ = state_transition(s[i], u[i], drone, environment, dt), \n",
    "\t\t\tΣ = 1e-10 * I\n",
    "\t\t)\n",
    "\tend\n",
    "\t\n",
    "\ts[end] ~ MvNormal(mean = goal, covariance = 1e-5 * diageye(6))\n",
    "\n",
    "end"
   ]
  },
  {
   "cell_type": "markdown",
   "metadata": {},
   "source": [
    "## Probabilistic inference"
   ]
  },
  {
   "cell_type": "code",
   "execution_count": null,
   "metadata": {},
   "outputs": [],
   "source": [
    "@meta function drone_meta()\n",
    "\n",
    "\t# approximate the state transition function using the Unscented transform\n",
    "\tstate_transition() -> Unscented()\n",
    "\n",
    "end"
   ]
  },
  {
   "cell_type": "code",
   "execution_count": null,
   "metadata": {},
   "outputs": [],
   "source": [
    "function move_to_target(drone::Drone, env::Environment, start::State, target, horizon, dt)\n",
    "\n",
    "    results = infer(\n",
    "        model = drone_model(\n",
    "            drone = drone, \n",
    "            environment = env,\n",
    "            horizon = horizon,\n",
    "            dt = dt\n",
    "        ),\n",
    "        data  = (\n",
    "            initial_state = collect(get_state(start)), \n",
    "            goal = [target[1], target[2], 0, 0, 0, 0],\n",
    "        ),\n",
    "        meta  = drone_meta(),\n",
    "        returnvars = (s = KeepLast(), u = KeepLast())\n",
    "    )\n",
    "\n",
    "    return results\n",
    "\n",
    "end"
   ]
  },
  {
   "cell_type": "code",
   "execution_count": null,
   "metadata": {},
   "outputs": [],
   "source": [
    "drone = Drone(\n",
    "    mass = 1,\n",
    "    inertia = 1,\n",
    "    radius = 0.2,\n",
    "    force_limit = 15.0\n",
    ")\n",
    "\n",
    "env = Environment()\n",
    "\n",
    "start = State(0.0, 0.0, 0.0, 0.0, 0.0, 0.0)\n",
    "\n",
    "target = [-0.8, 0.6]\n",
    "\n",
    "results = move_to_target(drone, env, start, target, 40, 0.05)"
   ]
  },
  {
   "cell_type": "markdown",
   "metadata": {},
   "source": [
    "## Plotting"
   ]
  },
  {
   "cell_type": "code",
   "execution_count": null,
   "metadata": {},
   "outputs": [],
   "source": [
    "using Plots"
   ]
  },
  {
   "cell_type": "code",
   "execution_count": null,
   "metadata": {},
   "outputs": [],
   "source": [
    "function plot_drone!(p, drone::Drone, state::State; color = :black)\n",
    "    x, y, x_a, y_a, θ, ω = get_state(state)\n",
    "    _, _, radius, _ = get_properties(drone)\n",
    "    dx = radius * cos(θ)\n",
    "    dy = radius * sin(θ)\n",
    "\n",
    "    drone_position = [ x ], [ y ]\n",
    "    drone_engines  = [ x - dx, x + dx ], [ y + dy, y - dy ]\n",
    "    drone_coordinates = [ x - dx, x, x + dx ], [ y + dy, y, y - dy ]\n",
    "\n",
    "    rotation_matrix = [ cos(-θ) -sin(-θ); sin(-θ) cos(-θ) ]\n",
    "    engine_shape = [ -1 0 1; 1 -1 1 ]\n",
    "    drone_shape  = [ -2 -2 2 2 ; -1 1 1 -1 ]\n",
    "    \n",
    "    engine_shape = rotation_matrix * engine_shape\n",
    "    drone_shape  = rotation_matrix * drone_shape\n",
    "    engine_marker = Shape(engine_shape[1, :], engine_shape[2, :])\n",
    "    drone_marker  = Shape(drone_shape[1, :], drone_shape[2, :])\n",
    "    \n",
    "    scatter!(p, drone_position[1], drone_position[2]; color = color, label = false, marker = drone_marker)\n",
    "    scatter!(p, drone_engines[1], drone_engines[2]; color = color, label = false, marker = engine_marker, ms = 10)\n",
    "    plot!(p, drone_coordinates; color = color, label = false)\n",
    "\n",
    "    return p\n",
    "end"
   ]
  },
  {
   "cell_type": "code",
   "execution_count": null,
   "metadata": {},
   "outputs": [],
   "source": [
    "function animate_drone(drone::Drone, target, results::InferenceResult)\n",
    "\n",
    "    states = hcat(map(p -> mean(p), results.posteriors[:s])...)\n",
    "    \n",
    "\n",
    "    @gif for k in 1:size(states,2)\n",
    "\n",
    "        # plot target\n",
    "        p = scatter([target[1]], [target[2]], label = \"target\"; color = :red)\n",
    "\n",
    "        # plot drone\n",
    "        plot_drone!(p, drone, State(states[:, k]...))\n",
    "\n",
    "        xlims!(-1.5, 1.5)\n",
    "        ylims!(-1.5, 1.5)\n",
    "    \n",
    "    end\n",
    "\n",
    "end"
   ]
  },
  {
   "cell_type": "code",
   "execution_count": null,
   "metadata": {},
   "outputs": [],
   "source": [
    "animate_drone(drone, target, results)"
   ]
  },
  {
   "cell_type": "code",
   "execution_count": null,
   "metadata": {},
   "outputs": [],
   "source": [
    "let \n",
    "    inferred_angle_mean = map(p -> mean(p)[5], results.posteriors[:s])\n",
    "    inferred_angle_std  = map(p -> std(p)[5],  results.posteriors[:s])\n",
    "    plot(inferred_angle_mean; ribbon = inferred_angle_std, fillalpha = 0.2, label = \"inferred angle\", size=(600,300))\n",
    "end"
   ]
  },
  {
   "cell_type": "code",
   "execution_count": null,
   "metadata": {},
   "outputs": [],
   "source": [
    "let \n",
    "    inferred_forces_mean = hcat(map(p -> mean(p), results.posteriors[:u])...)'\n",
    "    inferred_forces_std  = hcat(map(p -> sqrt.(var(p)),  results.posteriors[:u])...)'\n",
    "    plot(inferred_forces_mean[:,1]; ribbon = inferred_forces_std[:,1], fillalpha = 0.2, label = \"Fl\", size=(600,300))\n",
    "    plot!(inferred_forces_mean[:,2]; ribbon = inferred_forces_std[:,2], fillalpha = 0.2, label = \"Fr\", size=(600,300))\n",
    "    \n",
    "    hline!([get_mass(drone) * get_gravity(env) / 2], label = \"Fg/2\")\n",
    "end"
   ]
  }
 ],
 "metadata": {
  "kernelspec": {
   "display_name": "Julia 1.10.2",
   "language": "julia",
   "name": "julia-1.10"
  },
  "language_info": {
   "file_extension": ".jl",
   "mimetype": "application/julia",
   "name": "julia",
   "version": "1.10.2"
  }
 },
 "nbformat": 4,
 "nbformat_minor": 2
}
